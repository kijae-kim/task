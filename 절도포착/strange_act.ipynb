{
 "cells": [
  {
   "cell_type": "markdown",
   "metadata": {},
   "source": [
    "### 이상행동 감지 Project\n",
    "* 파일 분류\n",
    "    * 레이블 : 도난 상황 / 일반적인 상황\n",
    "    * "
   ]
  },
  {
   "cell_type": "markdown",
   "metadata": {},
   "source": [
    "### 전처리\n",
    "* xml -> txt -> yolo {class, x, y, w, h}       + frame\n",
    "* class / bbox"
   ]
  },
  {
   "cell_type": "code",
   "execution_count": null,
   "metadata": {
    "vscode": {
     "languageId": "plaintext"
    }
   },
   "outputs": [],
   "source": [
    "import os\n",
    "import random\n",
    "import shutil\n",
    "import ultralytics\n",
    "import yaml\n",
    "import cv2\n",
    "import glob\n",
    "import matplotlib.pyplot as plt\n",
    "import xml.etree.ElementTree as ET\n",
    "from ultralytics import YOLO\n",
    "from ultralytics.utils.plotting import Annotator\n",
    "from torchvision import transforms\n",
    "from tqdm import tqdm"
   ]
  },
  {
   "cell_type": "code",
   "execution_count": null,
   "metadata": {
    "vscode": {
     "languageId": "plaintext"
    }
   },
   "outputs": [],
   "source": [
    "# XML 파일들이 저장된 디렉토리 경로\n",
    "input_directory = '/path/to/xml/files'\n",
    "output_directory = '/path/to/output/files'\n",
    "\n",
    "# 이미지 크기 설정 (예: 1920x1080)\n",
    "img_width = 1920\n",
    "img_height = 1080\n",
    "\n",
    "# XML 파일들을 처리\n",
    "for filename in os.listdir(input_directory):\n",
    "    if filename.endswith('.xml'):\n",
    "        # XML 파일 경로\n",
    "        xml_file = os.path.join(input_directory, filename)\n",
    "        \n",
    "        # XML 파싱\n",
    "        tree = ET.parse(xml_file)\n",
    "        root = tree.getroot()\n",
    "        \n",
    "        # YOLO 형식으로 변환된 데이터 저장\n",
    "        yolo_data = []\n",
    "        \n",
    "        # 'track' 태그에서 'label'이 'theft_start' 또는 'theft_end'인 부분 찾기\n",
    "        for track in root.findall('track'):\n",
    "            label = track.get('label')\n",
    "            if label in ['theft_start', 'theft_end']:\n",
    "                for box in track.findall('box'):\n",
    "                    xtl = float(box.get('xtl'))\n",
    "                    ytl = float(box.get('ytl'))\n",
    "                    xbr = float(box.get('xbr'))\n",
    "                    ybr = float(box.get('ybr'))\n",
    "\n",
    "                    # 중심 좌표 계산\n",
    "                    x_center = (xtl + xbr) / 2.0\n",
    "                    y_center = (ytl + ybr) / 2.0\n",
    "\n",
    "                    # 너비와 높이 계산\n",
    "                    width = xbr - xtl\n",
    "                    height = ybr - ytl\n",
    "\n",
    "                    # 상대 좌표 계산\n",
    "                    x_center /= img_width\n",
    "                    y_center /= img_height\n",
    "                    width /= img_width\n",
    "                    height /= img_height\n",
    "\n",
    "                    # YOLO 형식: [class_id] [x_center] [y_center] [width] [height]\n",
    "                    class_id = 0 if label == 'theft_start' else 1\n",
    "                    yolo_format = f\"{class_id} {x_center:.6f} {y_center:.6f} {width:.6f} {height:.6f}\"\n",
    "                    yolo_data.append(yolo_format)\n",
    "        \n",
    "        # 출력 파일명 생성 (예: 원래 파일명이 \"example.xml\"이라면 \"example.txt\"로 저장)\n",
    "        output_filename = os.path.splitext(filename)[0] + '.txt'\n",
    "        output_file = os.path.join(output_directory, output_filename)\n",
    "        \n",
    "        # 결과를 txt 파일로 저장\n",
    "        with open(output_file, 'w') as file:\n",
    "            for line in yolo_data:\n",
    "                file.write(line + '\\n')\n"
   ]
  },
  {
   "cell_type": "code",
   "execution_count": null,
   "metadata": {
    "vscode": {
     "languageId": "plaintext"
    }
   },
   "outputs": [],
   "source": [
    "import os\n",
    "import xml.etree.ElementTree as ET\n",
    "from tqdm import tqdm\n",
    "\n",
    "def xml_to_yolo_bbox(bbox, w, h):\n",
    "    # YOLO 형식으로 바운딩 박스 변환\n",
    "    x_center = ((bbox[2] + bbox[0]) / 2) / w\n",
    "    y_center = ((bbox[3] + bbox[1]) / 2) / h\n",
    "    width = (bbox[2] - bbox[0]) / w\n",
    "    height = (bbox[3] - bbox[1]) / h\n",
    "    return [x_center, y_center, width, height]\n",
    "\n",
    "def process_xml(xml_file, output_dir):\n",
    "    tree = ET.parse(xml_file)\n",
    "    root = tree.getroot()\n",
    "\n",
    "    # 이미지 크기 정보 가져오기 (실제 XML 구조에 맞게 수정 필요)\n",
    "    width = int(root.find(\".//width\").text)\n",
    "    height = int(root.find(\".//height\").text)\n",
    "\n",
    "    result = []\n",
    "    classes = [\"theft_start\", \"theft_end\"]  # 클래스 리스트\n",
    "\n",
    "    for track in root.findall('track'):\n",
    "        label = track.get('label')\n",
    "        if label in classes:\n",
    "            class_id = classes.index(label)\n",
    "            for box in track.findall('box'):\n",
    "                if box.get('outside') == '0':\n",
    "                    xtl = float(box.get('xtl'))\n",
    "                    ytl = float(box.get('ytl'))\n",
    "                    xbr = float(box.get('xbr'))\n",
    "                    ybr = float(box.get('ybr'))\n",
    "                    \n",
    "                    bbox = xml_to_yolo_bbox([xtl, ytl, xbr, ybr], width, height)\n",
    "                    bbox_string = ' '.join([f\"{x:.6f}\" for x in bbox])\n",
    "                    result.append(f\"{class_id} {bbox_string}\")\n",
    "\n",
    "    # 결과 저장\n",
    "    if result:\n",
    "        output_file = os.path.join(output_dir, os.path.splitext(os.path.basename(xml_file))[0] + '.txt')\n",
    "        with open(output_file, 'w', encoding='utf-8') as f:\n",
    "            f.write('\\n'.join(result))\n",
    "\n",
    "def convert_folder(input_folder, output_folder):\n",
    "    if not os.path.exists(output_folder):\n",
    "        os.makedirs(output_folder)\n",
    "\n",
    "    xml_files = [f for f in os.listdir(input_folder) if f.endswith('.xml')]\n",
    "\n",
    "    for xml_file in tqdm(xml_files, desc=\"Converting XML to YOLO\"):\n",
    "        process_xml(os.path.join(input_folder, xml_file), output_folder)\n",
    "\n",
    "# 사용 예\n",
    "input_folder = '/path/to/xml/folder'\n",
    "output_folder = '/path/to/output/folder'\n",
    "convert_folder(input_folder, output_folder)"
   ]
  },
  {
   "cell_type": "markdown",
   "metadata": {},
   "source": [
    "### YOLO 모델 불러오기"
   ]
  },
  {
   "cell_type": "code",
   "execution_count": null,
   "metadata": {
    "vscode": {
     "languageId": "plaintext"
    }
   },
   "outputs": [],
   "source": []
  },
  {
   "cell_type": "markdown",
   "metadata": {},
   "source": [
    "### 학습"
   ]
  },
  {
   "cell_type": "code",
   "execution_count": null,
   "metadata": {
    "vscode": {
     "languageId": "plaintext"
    }
   },
   "outputs": [],
   "source": []
  },
  {
   "cell_type": "markdown",
   "metadata": {},
   "source": [
    "### 평가"
   ]
  },
  {
   "cell_type": "code",
   "execution_count": null,
   "metadata": {
    "vscode": {
     "languageId": "plaintext"
    }
   },
   "outputs": [],
   "source": []
  },
  {
   "cell_type": "markdown",
   "metadata": {},
   "source": [
    "### 시각화"
   ]
  },
  {
   "cell_type": "code",
   "execution_count": null,
   "metadata": {
    "vscode": {
     "languageId": "plaintext"
    }
   },
   "outputs": [],
   "source": []
  },
  {
   "cell_type": "markdown",
   "metadata": {},
   "source": []
  }
 ],
 "metadata": {
  "language_info": {
   "name": "python"
  }
 },
 "nbformat": 4,
 "nbformat_minor": 2
}
